{
 "cells": [
  {
   "cell_type": "code",
   "execution_count": 1,
   "id": "1f79bf68",
   "metadata": {},
   "outputs": [],
   "source": [
    "import pandas as pd\n",
    "import numpy as np"
   ]
  },
  {
   "cell_type": "code",
   "execution_count": 2,
   "id": "122bd41f",
   "metadata": {},
   "outputs": [],
   "source": [
    "dict1={\n",
    "    \"name\":[\"asif\",\"kashif\",\"saqib\",\"sabir\",\"tayyab\"],\n",
    "    \"marks\":[32,32,23,22,43],\n",
    "    \"city\":[\"fsd\",\"rwd\",\"layyah\",\"samundri\",\"lahore\"],\n",
    "}"
   ]
  },
  {
   "cell_type": "code",
   "execution_count": 3,
   "id": "fc7466f3",
   "metadata": {},
   "outputs": [],
   "source": [
    "df=pd.DataFrame(dict1)"
   ]
  },
  {
   "cell_type": "code",
   "execution_count": 4,
   "id": "d8a7532a",
   "metadata": {},
   "outputs": [
    {
     "data": {
      "text/html": [
       "<div>\n",
       "<style scoped>\n",
       "    .dataframe tbody tr th:only-of-type {\n",
       "        vertical-align: middle;\n",
       "    }\n",
       "\n",
       "    .dataframe tbody tr th {\n",
       "        vertical-align: top;\n",
       "    }\n",
       "\n",
       "    .dataframe thead th {\n",
       "        text-align: right;\n",
       "    }\n",
       "</style>\n",
       "<table border=\"1\" class=\"dataframe\">\n",
       "  <thead>\n",
       "    <tr style=\"text-align: right;\">\n",
       "      <th></th>\n",
       "      <th>name</th>\n",
       "      <th>marks</th>\n",
       "      <th>city</th>\n",
       "    </tr>\n",
       "  </thead>\n",
       "  <tbody>\n",
       "    <tr>\n",
       "      <th>0</th>\n",
       "      <td>asif</td>\n",
       "      <td>32</td>\n",
       "      <td>fsd</td>\n",
       "    </tr>\n",
       "    <tr>\n",
       "      <th>1</th>\n",
       "      <td>kashif</td>\n",
       "      <td>32</td>\n",
       "      <td>rwd</td>\n",
       "    </tr>\n",
       "    <tr>\n",
       "      <th>2</th>\n",
       "      <td>saqib</td>\n",
       "      <td>23</td>\n",
       "      <td>layyah</td>\n",
       "    </tr>\n",
       "    <tr>\n",
       "      <th>3</th>\n",
       "      <td>sabir</td>\n",
       "      <td>22</td>\n",
       "      <td>samundri</td>\n",
       "    </tr>\n",
       "    <tr>\n",
       "      <th>4</th>\n",
       "      <td>tayyab</td>\n",
       "      <td>43</td>\n",
       "      <td>lahore</td>\n",
       "    </tr>\n",
       "  </tbody>\n",
       "</table>\n",
       "</div>"
      ],
      "text/plain": [
       "     name  marks      city\n",
       "0    asif     32       fsd\n",
       "1  kashif     32       rwd\n",
       "2   saqib     23    layyah\n",
       "3   sabir     22  samundri\n",
       "4  tayyab     43    lahore"
      ]
     },
     "execution_count": 4,
     "metadata": {},
     "output_type": "execute_result"
    }
   ],
   "source": [
    "df"
   ]
  },
  {
   "cell_type": "code",
   "execution_count": 5,
   "id": "06527ec6",
   "metadata": {},
   "outputs": [],
   "source": [
    "df.to_csv('index.csv')"
   ]
  },
  {
   "cell_type": "code",
   "execution_count": 6,
   "id": "9bd66352",
   "metadata": {},
   "outputs": [],
   "source": [
    "df.to_csv('index_false.csv',index=False)"
   ]
  },
  {
   "cell_type": "code",
   "execution_count": 7,
   "id": "87454d0a",
   "metadata": {},
   "outputs": [
    {
     "data": {
      "text/html": [
       "<div>\n",
       "<style scoped>\n",
       "    .dataframe tbody tr th:only-of-type {\n",
       "        vertical-align: middle;\n",
       "    }\n",
       "\n",
       "    .dataframe tbody tr th {\n",
       "        vertical-align: top;\n",
       "    }\n",
       "\n",
       "    .dataframe thead th {\n",
       "        text-align: right;\n",
       "    }\n",
       "</style>\n",
       "<table border=\"1\" class=\"dataframe\">\n",
       "  <thead>\n",
       "    <tr style=\"text-align: right;\">\n",
       "      <th></th>\n",
       "      <th>name</th>\n",
       "      <th>marks</th>\n",
       "      <th>city</th>\n",
       "    </tr>\n",
       "  </thead>\n",
       "  <tbody>\n",
       "    <tr>\n",
       "      <th>0</th>\n",
       "      <td>asif</td>\n",
       "      <td>32</td>\n",
       "      <td>fsd</td>\n",
       "    </tr>\n",
       "    <tr>\n",
       "      <th>1</th>\n",
       "      <td>kashif</td>\n",
       "      <td>32</td>\n",
       "      <td>rwd</td>\n",
       "    </tr>\n",
       "  </tbody>\n",
       "</table>\n",
       "</div>"
      ],
      "text/plain": [
       "     name  marks city\n",
       "0    asif     32  fsd\n",
       "1  kashif     32  rwd"
      ]
     },
     "execution_count": 7,
     "metadata": {},
     "output_type": "execute_result"
    }
   ],
   "source": [
    "df.head(2)"
   ]
  },
  {
   "cell_type": "code",
   "execution_count": 8,
   "id": "595e28f3",
   "metadata": {},
   "outputs": [
    {
     "data": {
      "text/html": [
       "<div>\n",
       "<style scoped>\n",
       "    .dataframe tbody tr th:only-of-type {\n",
       "        vertical-align: middle;\n",
       "    }\n",
       "\n",
       "    .dataframe tbody tr th {\n",
       "        vertical-align: top;\n",
       "    }\n",
       "\n",
       "    .dataframe thead th {\n",
       "        text-align: right;\n",
       "    }\n",
       "</style>\n",
       "<table border=\"1\" class=\"dataframe\">\n",
       "  <thead>\n",
       "    <tr style=\"text-align: right;\">\n",
       "      <th></th>\n",
       "      <th>name</th>\n",
       "      <th>marks</th>\n",
       "      <th>city</th>\n",
       "    </tr>\n",
       "  </thead>\n",
       "  <tbody>\n",
       "    <tr>\n",
       "      <th>3</th>\n",
       "      <td>sabir</td>\n",
       "      <td>22</td>\n",
       "      <td>samundri</td>\n",
       "    </tr>\n",
       "    <tr>\n",
       "      <th>4</th>\n",
       "      <td>tayyab</td>\n",
       "      <td>43</td>\n",
       "      <td>lahore</td>\n",
       "    </tr>\n",
       "  </tbody>\n",
       "</table>\n",
       "</div>"
      ],
      "text/plain": [
       "     name  marks      city\n",
       "3   sabir     22  samundri\n",
       "4  tayyab     43    lahore"
      ]
     },
     "execution_count": 8,
     "metadata": {},
     "output_type": "execute_result"
    }
   ],
   "source": [
    " df.tail(2)"
   ]
  },
  {
   "cell_type": "code",
   "execution_count": 9,
   "id": "06c0aec7",
   "metadata": {},
   "outputs": [
    {
     "data": {
      "text/html": [
       "<div>\n",
       "<style scoped>\n",
       "    .dataframe tbody tr th:only-of-type {\n",
       "        vertical-align: middle;\n",
       "    }\n",
       "\n",
       "    .dataframe tbody tr th {\n",
       "        vertical-align: top;\n",
       "    }\n",
       "\n",
       "    .dataframe thead th {\n",
       "        text-align: right;\n",
       "    }\n",
       "</style>\n",
       "<table border=\"1\" class=\"dataframe\">\n",
       "  <thead>\n",
       "    <tr style=\"text-align: right;\">\n",
       "      <th></th>\n",
       "      <th>marks</th>\n",
       "    </tr>\n",
       "  </thead>\n",
       "  <tbody>\n",
       "    <tr>\n",
       "      <th>count</th>\n",
       "      <td>5.000000</td>\n",
       "    </tr>\n",
       "    <tr>\n",
       "      <th>mean</th>\n",
       "      <td>30.400000</td>\n",
       "    </tr>\n",
       "    <tr>\n",
       "      <th>std</th>\n",
       "      <td>8.502941</td>\n",
       "    </tr>\n",
       "    <tr>\n",
       "      <th>min</th>\n",
       "      <td>22.000000</td>\n",
       "    </tr>\n",
       "    <tr>\n",
       "      <th>25%</th>\n",
       "      <td>23.000000</td>\n",
       "    </tr>\n",
       "    <tr>\n",
       "      <th>50%</th>\n",
       "      <td>32.000000</td>\n",
       "    </tr>\n",
       "    <tr>\n",
       "      <th>75%</th>\n",
       "      <td>32.000000</td>\n",
       "    </tr>\n",
       "    <tr>\n",
       "      <th>max</th>\n",
       "      <td>43.000000</td>\n",
       "    </tr>\n",
       "  </tbody>\n",
       "</table>\n",
       "</div>"
      ],
      "text/plain": [
       "           marks\n",
       "count   5.000000\n",
       "mean   30.400000\n",
       "std     8.502941\n",
       "min    22.000000\n",
       "25%    23.000000\n",
       "50%    32.000000\n",
       "75%    32.000000\n",
       "max    43.000000"
      ]
     },
     "execution_count": 9,
     "metadata": {},
     "output_type": "execute_result"
    }
   ],
   "source": [
    "df.describe()"
   ]
  },
  {
   "cell_type": "code",
   "execution_count": 10,
   "id": "b9cd7c5c",
   "metadata": {},
   "outputs": [],
   "source": [
    "asif=pd.read_csv('index.csv')"
   ]
  },
  {
   "cell_type": "code",
   "execution_count": 11,
   "id": "791e1e97",
   "metadata": {},
   "outputs": [
    {
     "data": {
      "text/html": [
       "<div>\n",
       "<style scoped>\n",
       "    .dataframe tbody tr th:only-of-type {\n",
       "        vertical-align: middle;\n",
       "    }\n",
       "\n",
       "    .dataframe tbody tr th {\n",
       "        vertical-align: top;\n",
       "    }\n",
       "\n",
       "    .dataframe thead th {\n",
       "        text-align: right;\n",
       "    }\n",
       "</style>\n",
       "<table border=\"1\" class=\"dataframe\">\n",
       "  <thead>\n",
       "    <tr style=\"text-align: right;\">\n",
       "      <th></th>\n",
       "      <th>Unnamed: 0</th>\n",
       "      <th>name</th>\n",
       "      <th>marks</th>\n",
       "      <th>city</th>\n",
       "    </tr>\n",
       "  </thead>\n",
       "  <tbody>\n",
       "    <tr>\n",
       "      <th>0</th>\n",
       "      <td>0</td>\n",
       "      <td>asif</td>\n",
       "      <td>32</td>\n",
       "      <td>fsd</td>\n",
       "    </tr>\n",
       "    <tr>\n",
       "      <th>1</th>\n",
       "      <td>1</td>\n",
       "      <td>kashif</td>\n",
       "      <td>32</td>\n",
       "      <td>rwd</td>\n",
       "    </tr>\n",
       "    <tr>\n",
       "      <th>2</th>\n",
       "      <td>2</td>\n",
       "      <td>saqib</td>\n",
       "      <td>23</td>\n",
       "      <td>layyah</td>\n",
       "    </tr>\n",
       "    <tr>\n",
       "      <th>3</th>\n",
       "      <td>3</td>\n",
       "      <td>sabir</td>\n",
       "      <td>22</td>\n",
       "      <td>samundri</td>\n",
       "    </tr>\n",
       "    <tr>\n",
       "      <th>4</th>\n",
       "      <td>4</td>\n",
       "      <td>tayyab</td>\n",
       "      <td>43</td>\n",
       "      <td>lahore</td>\n",
       "    </tr>\n",
       "  </tbody>\n",
       "</table>\n",
       "</div>"
      ],
      "text/plain": [
       "   Unnamed: 0    name  marks      city\n",
       "0           0    asif     32       fsd\n",
       "1           1  kashif     32       rwd\n",
       "2           2   saqib     23    layyah\n",
       "3           3   sabir     22  samundri\n",
       "4           4  tayyab     43    lahore"
      ]
     },
     "execution_count": 11,
     "metadata": {},
     "output_type": "execute_result"
    }
   ],
   "source": [
    "asif"
   ]
  },
  {
   "cell_type": "code",
   "execution_count": 12,
   "id": "ac36c4f7",
   "metadata": {},
   "outputs": [
    {
     "name": "stderr",
     "output_type": "stream",
     "text": [
      "C:\\Users\\User\\AppData\\Local\\Temp\\ipykernel_9872\\3092866091.py:1: SettingWithCopyWarning: \n",
      "A value is trying to be set on a copy of a slice from a DataFrame\n",
      "\n",
      "See the caveats in the documentation: https://pandas.pydata.org/pandas-docs/stable/user_guide/indexing.html#returning-a-view-versus-a-copy\n",
      "  asif[\"marks\"][1]=438739\n"
     ]
    }
   ],
   "source": [
    "asif[\"marks\"][1]=438739"
   ]
  },
  {
   "cell_type": "code",
   "execution_count": 13,
   "id": "d380dc94",
   "metadata": {},
   "outputs": [
    {
     "data": {
      "text/plain": [
       "438739"
      ]
     },
     "execution_count": 13,
     "metadata": {},
     "output_type": "execute_result"
    }
   ],
   "source": [
    "asif[\"marks\"][1]"
   ]
  },
  {
   "cell_type": "code",
   "execution_count": 14,
   "id": "93c22383",
   "metadata": {},
   "outputs": [],
   "source": [
    "asif.to_csv('asiff.csv')"
   ]
  },
  {
   "cell_type": "code",
   "execution_count": 15,
   "id": "68dc4ddb",
   "metadata": {},
   "outputs": [],
   "source": [
    "asif.index=[\"asif\",\"kashif\",\"saqib\",\"sabir\",\"tayyab\"]"
   ]
  },
  {
   "cell_type": "code",
   "execution_count": 16,
   "id": "225b4194",
   "metadata": {},
   "outputs": [
    {
     "data": {
      "text/html": [
       "<div>\n",
       "<style scoped>\n",
       "    .dataframe tbody tr th:only-of-type {\n",
       "        vertical-align: middle;\n",
       "    }\n",
       "\n",
       "    .dataframe tbody tr th {\n",
       "        vertical-align: top;\n",
       "    }\n",
       "\n",
       "    .dataframe thead th {\n",
       "        text-align: right;\n",
       "    }\n",
       "</style>\n",
       "<table border=\"1\" class=\"dataframe\">\n",
       "  <thead>\n",
       "    <tr style=\"text-align: right;\">\n",
       "      <th></th>\n",
       "      <th>Unnamed: 0</th>\n",
       "      <th>name</th>\n",
       "      <th>marks</th>\n",
       "      <th>city</th>\n",
       "    </tr>\n",
       "  </thead>\n",
       "  <tbody>\n",
       "    <tr>\n",
       "      <th>asif</th>\n",
       "      <td>0</td>\n",
       "      <td>asif</td>\n",
       "      <td>32</td>\n",
       "      <td>fsd</td>\n",
       "    </tr>\n",
       "    <tr>\n",
       "      <th>kashif</th>\n",
       "      <td>1</td>\n",
       "      <td>kashif</td>\n",
       "      <td>438739</td>\n",
       "      <td>rwd</td>\n",
       "    </tr>\n",
       "    <tr>\n",
       "      <th>saqib</th>\n",
       "      <td>2</td>\n",
       "      <td>saqib</td>\n",
       "      <td>23</td>\n",
       "      <td>layyah</td>\n",
       "    </tr>\n",
       "    <tr>\n",
       "      <th>sabir</th>\n",
       "      <td>3</td>\n",
       "      <td>sabir</td>\n",
       "      <td>22</td>\n",
       "      <td>samundri</td>\n",
       "    </tr>\n",
       "    <tr>\n",
       "      <th>tayyab</th>\n",
       "      <td>4</td>\n",
       "      <td>tayyab</td>\n",
       "      <td>43</td>\n",
       "      <td>lahore</td>\n",
       "    </tr>\n",
       "  </tbody>\n",
       "</table>\n",
       "</div>"
      ],
      "text/plain": [
       "        Unnamed: 0    name   marks      city\n",
       "asif             0    asif      32       fsd\n",
       "kashif           1  kashif  438739       rwd\n",
       "saqib            2   saqib      23    layyah\n",
       "sabir            3   sabir      22  samundri\n",
       "tayyab           4  tayyab      43    lahore"
      ]
     },
     "execution_count": 16,
     "metadata": {},
     "output_type": "execute_result"
    }
   ],
   "source": [
    "asif"
   ]
  },
  {
   "cell_type": "code",
   "execution_count": 17,
   "id": "46d5c639",
   "metadata": {},
   "outputs": [],
   "source": [
    "ser=pd.Series(np.random.rand(32))"
   ]
  },
  {
   "cell_type": "code",
   "execution_count": 19,
   "id": "7c6cf436",
   "metadata": {},
   "outputs": [
    {
     "data": {
      "text/plain": [
       "0     0.232642\n",
       "1     0.609050\n",
       "2     0.877578\n",
       "3     0.489222\n",
       "4     0.373723\n",
       "5     0.968654\n",
       "6     0.634692\n",
       "7     0.787342\n",
       "8     0.110988\n",
       "9     0.667151\n",
       "10    0.227998\n",
       "11    0.446432\n",
       "12    0.346398\n",
       "13    0.554388\n",
       "14    0.999241\n",
       "15    0.883898\n",
       "16    0.764495\n",
       "17    0.379212\n",
       "18    0.915759\n",
       "19    0.695539\n",
       "20    0.591097\n",
       "21    0.251601\n",
       "22    0.168552\n",
       "23    0.237948\n",
       "24    0.541169\n",
       "25    0.325436\n",
       "26    0.482697\n",
       "27    0.230719\n",
       "28    0.051942\n",
       "29    0.064847\n",
       "30    0.415151\n",
       "31    0.564686\n",
       "dtype: float64"
      ]
     },
     "execution_count": 19,
     "metadata": {},
     "output_type": "execute_result"
    }
   ],
   "source": [
    "ser"
   ]
  },
  {
   "cell_type": "code",
   "execution_count": 20,
   "id": "91453605",
   "metadata": {},
   "outputs": [
    {
     "data": {
      "text/plain": [
       "pandas.core.series.Series"
      ]
     },
     "execution_count": 20,
     "metadata": {},
     "output_type": "execute_result"
    }
   ],
   "source": [
    "type(ser)"
   ]
  },
  {
   "cell_type": "code",
   "execution_count": null,
   "id": "dc6b5bbb",
   "metadata": {},
   "outputs": [],
   "source": [
    "dataFrame=pd.DataFrame(np.random.rand(23,5),index=arrange(23,))"
   ]
  }
 ],
 "metadata": {
  "kernelspec": {
   "display_name": "Python 3 (ipykernel)",
   "language": "python",
   "name": "python3"
  },
  "language_info": {
   "codemirror_mode": {
    "name": "ipython",
    "version": 3
   },
   "file_extension": ".py",
   "mimetype": "text/x-python",
   "name": "python",
   "nbconvert_exporter": "python",
   "pygments_lexer": "ipython3",
   "version": "3.9.5"
  }
 },
 "nbformat": 4,
 "nbformat_minor": 5
}
